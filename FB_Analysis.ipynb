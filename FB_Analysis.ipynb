{
  "nbformat": 4,
  "nbformat_minor": 0,
  "metadata": {
    "colab": {
      "name": "FB Analysis.ipynb",
      "version": "0.3.2",
      "provenance": [],
      "collapsed_sections": []
    },
    "kernelspec": {
      "name": "python3",
      "display_name": "Python 3"
    }
  },
  "cells": [
    {
      "metadata": {
        "id": "xVY2QtIf5W6i",
        "colab_type": "code",
        "outputId": "fb61720c-17a7-4590-c416-b9cca8348ea5",
        "colab": {
          "base_uri": "https://localhost:8080/",
          "height": 122
        }
      },
      "cell_type": "code",
      "source": [
        "import pandas as pd\n",
        "import os, json\n",
        "import datetime\n",
        "import matplotlib.pyplot as plt\n",
        "import numpy as np\n",
        "from matplotlib import rc\n",
        "from google.colab import drive\n",
        "drive.mount('/content/gdrive')"
      ],
      "execution_count": 4,
      "outputs": [
        {
          "output_type": "stream",
          "text": [
            "Go to this URL in a browser: https://accounts.google.com/o/oauth2/auth?client_id=947318989803-6bn6qk8qdgf4n4g3pfee6491hc0brc4i.apps.googleusercontent.com&redirect_uri=urn%3Aietf%3Awg%3Aoauth%3A2.0%3Aoob&scope=email%20https%3A%2F%2Fwww.googleapis.com%2Fauth%2Fdocs.test%20https%3A%2F%2Fwww.googleapis.com%2Fauth%2Fdrive%20https%3A%2F%2Fwww.googleapis.com%2Fauth%2Fdrive.photos.readonly%20https%3A%2F%2Fwww.googleapis.com%2Fauth%2Fpeopleapi.readonly&response_type=code\n",
            "\n",
            "Enter your authorization code:\n",
            "··········\n",
            "Mounted at /content/gdrive\n"
          ],
          "name": "stdout"
        }
      ]
    },
    {
      "metadata": {
        "id": "w6eudeBoFSQt",
        "colab_type": "code",
        "colab": {}
      },
      "cell_type": "code",
      "source": [
        "fb_posts = pd.read_csv('/content/gdrive/My Drive/Data Visualisations/myposts.csv')\n",
        "#fb timestamp is imported in unix format\n",
        "#we need to convert this into a readable datetime \n",
        "#iterate through timestamps and convert individual rows \n",
        "fb_posts['timestamp'] = fb_posts['timestamp'].apply(lambda x: datetime.datetime.fromtimestamp(int(x)))\n",
        "#create month, day, year and time columns\n",
        "fb_posts['year'] = fb_posts.timestamp.dt.year\n",
        "fb_posts['month'] = fb_posts.timestamp.dt.month\n",
        "fb_posts['day'] = fb_posts.timestamp.dt.day\n",
        "fb_posts['time'] = fb_posts.timestamp.dt.time\n",
        "\n",
        "#we want to drop columns that don't contain information valuable for our analysis\n",
        "#making the assumption that if 95% of the rows are NaN values, the column doesn't contain valuable info for the purposes of our analysis\n",
        "#use dropna and specify threshhold of na values\n",
        "fb_posts = fb_posts.dropna(thresh=len(fb_posts)*0.05, axis=1)\n"
      ],
      "execution_count": 0,
      "outputs": []
    },
    {
      "metadata": {
        "id": "9Pe-hH5dNOxB",
        "colab_type": "code",
        "colab": {}
      },
      "cell_type": "code",
      "source": [
        "#use list(fb_posts) to id the remaining columns\n",
        "fb_posts = fb_posts.drop(fb_posts.iloc[:,[1,4]], axis=1)"
      ],
      "execution_count": 0,
      "outputs": []
    },
    {
      "metadata": {
        "id": "l74c35JTN5JJ",
        "colab_type": "code",
        "colab": {}
      },
      "cell_type": "code",
      "source": [
        "#rename column\n",
        "fb_posts.rename(columns = {'data/0/post':'posts', 'attachments/0/data/0/external_context/url':'links'}, inplace=True)"
      ],
      "execution_count": 0,
      "outputs": []
    },
    {
      "metadata": {
        "id": "CSrPDg8V_cNx",
        "colab_type": "code",
        "colab": {}
      },
      "cell_type": "code",
      "source": [
        "fb_posts['title'] = fb_posts['title'].astype(str)"
      ],
      "execution_count": 0,
      "outputs": []
    },
    {
      "metadata": {
        "id": "Ymkp7RE9ADWt",
        "colab_type": "code",
        "colab": {}
      },
      "cell_type": "code",
      "source": [
        "for x in ['link', 'post', 'status', 'timeline','recommend','books','reviewed','playlist','feeling','event','likes','listened','played','published','shared','was','followed','commented','song','responded','wants','invested','photo']:\n",
        "    fb_posts.loc[fb_posts['title'].str.contains(x), 'title'] = x"
      ],
      "execution_count": 0,
      "outputs": []
    },
    {
      "metadata": {
        "id": "ytGlZX-aSBcj",
        "colab_type": "code",
        "colab": {}
      },
      "cell_type": "code",
      "source": [
        "#remove chart junk\n",
        "removal = ['recommend','books','photo','reviewed','playlist','nan','feeling','event','likes','listened','played','published','was','followed','commented','song','responded','wants','invested']\n",
        "fb_posts2= fb_posts[~fb_posts['title'].isin(removal)]"
      ],
      "execution_count": 0,
      "outputs": []
    },
    {
      "metadata": {
        "id": "mK0Drp1yMa08",
        "colab_type": "code",
        "colab": {
          "base_uri": "https://localhost:8080/",
          "height": 390
        },
        "outputId": "8e9312d5-5859-478f-b94d-c47a3d894bfa"
      },
      "cell_type": "code",
      "source": [
        "fb_posts2.groupby(['year','title']).size().unstack().plot.bar(stacked=True)"
      ],
      "execution_count": 12,
      "outputs": [
        {
          "output_type": "execute_result",
          "data": {
            "text/plain": [
              "<matplotlib.axes._subplots.AxesSubplot at 0x7f7aecf80908>"
            ]
          },
          "metadata": {
            "tags": []
          },
          "execution_count": 12
        },
        {
          "output_type": "display_data",
          "data": {
            "image/png": "[encoded data removed]",
            "text/plain": [
              "<matplotlib.figure.Figure at 0x7f7b14162e80>"
            ]
          },
          "metadata": {
            "tags": []
          }
        }
      ]
    },
    {
      "metadata": {
        "id": "AFYvzXLjWd__",
        "colab_type": "code",
        "colab": {}
      },
      "cell_type": "code",
      "source": [
        "#we want to find the count of posts, status updates and link shares by year\n",
        "nine = fb_posts2[fb_posts2['year']==2009].groupby('title').size()\n",
        "ten = fb_posts2[fb_posts2['year']==2010].groupby('title').size()\n",
        "eleven = fb_posts2[fb_posts2['year']==2011].groupby('title').size()\n",
        "twelve = fb_posts2[fb_posts2['year']==2012].groupby('title').size()\n",
        "thirteen = fb_posts2[fb_posts2['year']==2013].groupby('title').size()\n",
        "fourteen = fb_posts2[fb_posts2['year']==2014].groupby('title').size()\n",
        "fifteen = fb_posts2[fb_posts2['year']==2015].groupby('title').size()\n",
        "sixteen = fb_posts2[fb_posts2['year']==2016].groupby('title').size()\n",
        "seventeen = fb_posts2[fb_posts2['year']==2017].groupby('title').size()\n",
        "eighteen = fb_posts2[fb_posts2['year']==2018].groupby('title').size()\n"
      ],
      "execution_count": 0,
      "outputs": []
    },
    {
      "metadata": {
        "id": "fdWRHcFEghro",
        "colab_type": "code",
        "colab": {}
      },
      "cell_type": "code",
      "source": [
        "a1 = lambda x: x/sum(nine)*100\n",
        "a2 = lambda x: x/sum(ten)*100\n",
        "a3 = lambda x: x/sum(eleven)*100\n",
        "a4 = lambda x: x/sum(twelve)*100\n",
        "a5 = lambda x: x/sum(thirteen)*100\n",
        "a6 = lambda x: x/sum(fourteen)*100\n",
        "a7 = lambda x: x/sum(fifteen)*100\n",
        "a8 = lambda x: x/sum(sixteen)*100\n",
        "a9 = lambda x: x/sum(seventeen)*100\n",
        "a10 = lambda x: x/sum(eighteen)*100\n",
        "nine = a1(nine)\n",
        "ten = a2(ten)\n",
        "eleven = a3(eleven) \n",
        "twelve = a4(twelve)\n",
        "thirteen = a5(thirteen)\n",
        "fourteen = a6(fourteen)\n",
        "fifteen = a7(fifteen)\n",
        "sixteen = a8(sixteen)\n",
        "seventeen = a9(seventeen)\n",
        "eighteen = a10(eighteen)"
      ],
      "execution_count": 0,
      "outputs": []
    },
    {
      "metadata": {
        "id": "53jMOxmgtA3i",
        "colab_type": "code",
        "colab": {
          "base_uri": "https://localhost:8080/",
          "height": 119
        },
        "outputId": "2badb343-3790-4371-9c3a-ba5e3608d099"
      },
      "cell_type": "code",
      "source": [
        "twelve"
      ],
      "execution_count": 40,
      "outputs": [
        {
          "output_type": "execute_result",
          "data": {
            "text/plain": [
              "title\n",
              "link        18.660287\n",
              "shared       3.588517\n",
              "status      65.550239\n",
              "timeline    12.200957\n",
              "dtype: float64"
            ]
          },
          "metadata": {
            "tags": []
          },
          "execution_count": 40
        }
      ]
    },
    {
      "metadata": {
        "id": "ZH8L1HlBnZUy",
        "colab_type": "code",
        "colab": {
          "base_uri": "https://localhost:8080/",
          "height": 306
        },
        "outputId": "27bbd027-e44c-417d-e6b9-c82fe4dd1cdc"
      },
      "cell_type": "code",
      "source": [
        "series = [pd.Series([nine, ten, eleven, twelve,thirteen], index=('link','post','shared','status','timeline'))]\n",
        "series"
      ],
      "execution_count": 29,
      "outputs": [
        {
          "output_type": "execute_result",
          "data": {
            "text/plain": [
              "[link        title\n",
              " link       6.060606\n",
              " post       8.080808\n",
              " ...\n",
              " post        title\n",
              " link         1.666667\n",
              " post        15.833...\n",
              " shared      title\n",
              " link        23.885350\n",
              " shared       0.318...\n",
              " status      title\n",
              " link        18.660287\n",
              " shared       3.588...\n",
              " timeline    title\n",
              " link         3.943662\n",
              " post         5.352...\n",
              " dtype: object]"
            ]
          },
          "metadata": {
            "tags": []
          },
          "execution_count": 29
        }
      ]
    },
    {
      "metadata": {
        "colab_type": "code",
        "id": "56vu4TNmxCDA",
        "colab": {}
      },
      "cell_type": "code",
      "source": [
        "my_names = [2009,2010,2011,2012,2013,2014,2015,2016,2017,2018]\n",
        "cols = ['link', 'post','shared','timeline','status']"
      ],
      "execution_count": 0,
      "outputs": []
    },
    {
      "metadata": {
        "id": "U-kYesxCqTFm",
        "colab_type": "code",
        "colab": {}
      },
      "cell_type": "code",
      "source": [
        "#why did i use concat over pd.series then pd.dataframe\n",
        "ser = [nine, ten, eleven, twelve, thirteen, fourteen, fifteen, sixteen, seventeen, eighteen]\n",
        "df = pd.concat(ser, axis=1, keys=my_names)"
      ],
      "execution_count": 0,
      "outputs": []
    },
    {
      "metadata": {
        "id": "Odwv4aQ-wYno",
        "colab_type": "code",
        "colab": {}
      },
      "cell_type": "code",
      "source": [
        "#remove all NaN values and replace with 0\n",
        "df[2009].fillna(0, inplace=True)\n",
        "df[2011].fillna(0, inplace=True)\n",
        "df[2012].fillna(0, inplace=True)"
      ],
      "execution_count": 0,
      "outputs": []
    },
    {
      "metadata": {
        "id": "7hiAGzoe00Cq",
        "colab_type": "code",
        "colab": {}
      },
      "cell_type": "code",
      "source": [
        "df1 = df.pivot(index=df.columns, columns=df.rows, values=df.values)\n"
      ],
      "execution_count": 0,
      "outputs": []
    },
    {
      "metadata": {
        "id": "iHdkqXE0G9x7",
        "colab_type": "code",
        "colab": {
          "base_uri": "https://localhost:8080/",
          "height": 389
        },
        "outputId": "077f2f0b-5d8d-4ad5-88ab-4cd68776bdcf"
      },
      "cell_type": "code",
      "source": [
        "\n",
        "df.plot(kind='bar', stacked=True, width=0.85)\n"
      ],
      "execution_count": 66,
      "outputs": [
        {
          "output_type": "execute_result",
          "data": {
            "text/plain": [
              "<matplotlib.axes._subplots.AxesSubplot at 0x7f7ae8d16d30>"
            ]
          },
          "metadata": {
            "tags": []
          },
          "execution_count": 66
        },
        {
          "output_type": "display_data",
          "data": {
            "image/png": "[encoded data removed]",
            "text/plain": [
              "<matplotlib.figure.Figure at 0x7f7ae8cdb9b0>"
            ]
          },
          "metadata": {
            "tags": []
          }
        }
      ]
    },
    {
      "metadata": {
        "id": "sWT5Fs7VcTuQ",
        "colab_type": "code",
        "colab": {
          "base_uri": "https://localhost:8080/",
          "height": 1051
        },
        "outputId": "c9dd7669-7fe1-487c-f12e-cbb290421519"
      },
      "cell_type": "code",
      "source": [
        "#we need to invert axes, currently rows are the x-axis and years the y-axis\n",
        "df.plot(x= df.columns, y= df.values, kind='bar', stacked=True, width=0.85)"
      ],
      "execution_count": 72,
      "outputs": [
        {
          "output_type": "error",
          "ename": "ValueError",
          "evalue": "ignored",
          "traceback": [
            "\u001b[0;31m---------------------------------------------------------------------------\u001b[0m",
            "\u001b[0;31mValueError\u001b[0m                                Traceback (most recent call last)",
            "\u001b[0;32m<ipython-input-72-8056826c0b28>\u001b[0m in \u001b[0;36m<module>\u001b[0;34m()\u001b[0m\n\u001b[0;32m----> 1\u001b[0;31m \u001b[0mdf\u001b[0m\u001b[0;34m.\u001b[0m\u001b[0mplot\u001b[0m\u001b[0;34m(\u001b[0m\u001b[0mx\u001b[0m\u001b[0;34m=\u001b[0m \u001b[0mdf\u001b[0m\u001b[0;34m.\u001b[0m\u001b[0mcolumns\u001b[0m\u001b[0;34m,\u001b[0m \u001b[0my\u001b[0m\u001b[0;34m=\u001b[0m \u001b[0mdf\u001b[0m\u001b[0;34m.\u001b[0m\u001b[0mvalues\u001b[0m\u001b[0;34m,\u001b[0m \u001b[0mkind\u001b[0m\u001b[0;34m=\u001b[0m\u001b[0;34m'bar'\u001b[0m\u001b[0;34m,\u001b[0m \u001b[0mstacked\u001b[0m\u001b[0;34m=\u001b[0m\u001b[0;32mTrue\u001b[0m\u001b[0;34m,\u001b[0m \u001b[0mwidth\u001b[0m\u001b[0;34m=\u001b[0m\u001b[0;36m0.85\u001b[0m\u001b[0;34m)\u001b[0m\u001b[0;34m\u001b[0m\u001b[0;34m\u001b[0m\u001b[0m\n\u001b[0m",
            "\u001b[0;32m/usr/local/lib/python3.6/dist-packages/pandas/plotting/_core.py\u001b[0m in \u001b[0;36m__call__\u001b[0;34m(self, x, y, kind, ax, subplots, sharex, sharey, layout, figsize, use_index, title, grid, legend, style, logx, logy, loglog, xticks, yticks, xlim, ylim, rot, fontsize, colormap, table, yerr, xerr, secondary_y, sort_columns, **kwds)\u001b[0m\n\u001b[1;32m   2675\u001b[0m                           \u001b[0mfontsize\u001b[0m\u001b[0;34m=\u001b[0m\u001b[0mfontsize\u001b[0m\u001b[0;34m,\u001b[0m \u001b[0mcolormap\u001b[0m\u001b[0;34m=\u001b[0m\u001b[0mcolormap\u001b[0m\u001b[0;34m,\u001b[0m \u001b[0mtable\u001b[0m\u001b[0;34m=\u001b[0m\u001b[0mtable\u001b[0m\u001b[0;34m,\u001b[0m\u001b[0;34m\u001b[0m\u001b[0;34m\u001b[0m\u001b[0m\n\u001b[1;32m   2676\u001b[0m                           \u001b[0myerr\u001b[0m\u001b[0;34m=\u001b[0m\u001b[0myerr\u001b[0m\u001b[0;34m,\u001b[0m \u001b[0mxerr\u001b[0m\u001b[0;34m=\u001b[0m\u001b[0mxerr\u001b[0m\u001b[0;34m,\u001b[0m \u001b[0msecondary_y\u001b[0m\u001b[0;34m=\u001b[0m\u001b[0msecondary_y\u001b[0m\u001b[0;34m,\u001b[0m\u001b[0;34m\u001b[0m\u001b[0;34m\u001b[0m\u001b[0m\n\u001b[0;32m-> 2677\u001b[0;31m                           sort_columns=sort_columns, **kwds)\n\u001b[0m\u001b[1;32m   2678\u001b[0m     \u001b[0m__call__\u001b[0m\u001b[0;34m.\u001b[0m\u001b[0m__doc__\u001b[0m \u001b[0;34m=\u001b[0m \u001b[0mplot_frame\u001b[0m\u001b[0;34m.\u001b[0m\u001b[0m__doc__\u001b[0m\u001b[0;34m\u001b[0m\u001b[0;34m\u001b[0m\u001b[0m\n\u001b[1;32m   2679\u001b[0m \u001b[0;34m\u001b[0m\u001b[0m\n",
            "\u001b[0;32m/usr/local/lib/python3.6/dist-packages/pandas/plotting/_core.py\u001b[0m in \u001b[0;36mplot_frame\u001b[0;34m(data, x, y, kind, ax, subplots, sharex, sharey, layout, figsize, use_index, title, grid, legend, style, logx, logy, loglog, xticks, yticks, xlim, ylim, rot, fontsize, colormap, table, yerr, xerr, secondary_y, sort_columns, **kwds)\u001b[0m\n\u001b[1;32m   1900\u001b[0m                  \u001b[0myerr\u001b[0m\u001b[0;34m=\u001b[0m\u001b[0myerr\u001b[0m\u001b[0;34m,\u001b[0m \u001b[0mxerr\u001b[0m\u001b[0;34m=\u001b[0m\u001b[0mxerr\u001b[0m\u001b[0;34m,\u001b[0m\u001b[0;34m\u001b[0m\u001b[0;34m\u001b[0m\u001b[0m\n\u001b[1;32m   1901\u001b[0m                  \u001b[0msecondary_y\u001b[0m\u001b[0;34m=\u001b[0m\u001b[0msecondary_y\u001b[0m\u001b[0;34m,\u001b[0m \u001b[0msort_columns\u001b[0m\u001b[0;34m=\u001b[0m\u001b[0msort_columns\u001b[0m\u001b[0;34m,\u001b[0m\u001b[0;34m\u001b[0m\u001b[0;34m\u001b[0m\u001b[0m\n\u001b[0;32m-> 1902\u001b[0;31m                  **kwds)\n\u001b[0m\u001b[1;32m   1903\u001b[0m \u001b[0;34m\u001b[0m\u001b[0m\n\u001b[1;32m   1904\u001b[0m \u001b[0;34m\u001b[0m\u001b[0m\n",
            "\u001b[0;32m/usr/local/lib/python3.6/dist-packages/pandas/plotting/_core.py\u001b[0m in \u001b[0;36m_plot\u001b[0;34m(data, x, y, subplots, ax, kind, **kwds)\u001b[0m\n\u001b[1;32m   1707\u001b[0m                 \u001b[0;32mif\u001b[0m \u001b[0mis_integer\u001b[0m\u001b[0;34m(\u001b[0m\u001b[0mx\u001b[0m\u001b[0;34m)\u001b[0m \u001b[0;32mand\u001b[0m \u001b[0;32mnot\u001b[0m \u001b[0mdata\u001b[0m\u001b[0;34m.\u001b[0m\u001b[0mcolumns\u001b[0m\u001b[0;34m.\u001b[0m\u001b[0mholds_integer\u001b[0m\u001b[0;34m(\u001b[0m\u001b[0;34m)\u001b[0m\u001b[0;34m:\u001b[0m\u001b[0;34m\u001b[0m\u001b[0;34m\u001b[0m\u001b[0m\n\u001b[1;32m   1708\u001b[0m                     \u001b[0mx\u001b[0m \u001b[0;34m=\u001b[0m \u001b[0mdata\u001b[0m\u001b[0;34m.\u001b[0m\u001b[0mcolumns\u001b[0m\u001b[0;34m[\u001b[0m\u001b[0mx\u001b[0m\u001b[0;34m]\u001b[0m\u001b[0;34m\u001b[0m\u001b[0;34m\u001b[0m\u001b[0m\n\u001b[0;32m-> 1709\u001b[0;31m                 \u001b[0mdata\u001b[0m \u001b[0;34m=\u001b[0m \u001b[0mdata\u001b[0m\u001b[0;34m.\u001b[0m\u001b[0mset_index\u001b[0m\u001b[0;34m(\u001b[0m\u001b[0mx\u001b[0m\u001b[0;34m)\u001b[0m\u001b[0;34m\u001b[0m\u001b[0;34m\u001b[0m\u001b[0m\n\u001b[0m\u001b[1;32m   1710\u001b[0m \u001b[0;34m\u001b[0m\u001b[0m\n\u001b[1;32m   1711\u001b[0m             \u001b[0;32mif\u001b[0m \u001b[0my\u001b[0m \u001b[0;32mis\u001b[0m \u001b[0;32mnot\u001b[0m \u001b[0;32mNone\u001b[0m\u001b[0;34m:\u001b[0m\u001b[0;34m\u001b[0m\u001b[0;34m\u001b[0m\u001b[0m\n",
            "\u001b[0;32m/usr/local/lib/python3.6/dist-packages/pandas/core/frame.py\u001b[0m in \u001b[0;36mset_index\u001b[0;34m(self, keys, drop, append, inplace, verify_integrity)\u001b[0m\n\u001b[1;32m   3162\u001b[0m         \u001b[0mindex\u001b[0m\u001b[0;34m.\u001b[0m\u001b[0m_cleanup\u001b[0m\u001b[0;34m(\u001b[0m\u001b[0;34m)\u001b[0m\u001b[0;34m\u001b[0m\u001b[0;34m\u001b[0m\u001b[0m\n\u001b[1;32m   3163\u001b[0m \u001b[0;34m\u001b[0m\u001b[0m\n\u001b[0;32m-> 3164\u001b[0;31m         \u001b[0mframe\u001b[0m\u001b[0;34m.\u001b[0m\u001b[0mindex\u001b[0m \u001b[0;34m=\u001b[0m \u001b[0mindex\u001b[0m\u001b[0;34m\u001b[0m\u001b[0;34m\u001b[0m\u001b[0m\n\u001b[0m\u001b[1;32m   3165\u001b[0m \u001b[0;34m\u001b[0m\u001b[0m\n\u001b[1;32m   3166\u001b[0m         \u001b[0;32mif\u001b[0m \u001b[0;32mnot\u001b[0m \u001b[0minplace\u001b[0m\u001b[0;34m:\u001b[0m\u001b[0;34m\u001b[0m\u001b[0;34m\u001b[0m\u001b[0m\n",
            "\u001b[0;32m/usr/local/lib/python3.6/dist-packages/pandas/core/generic.py\u001b[0m in \u001b[0;36m__setattr__\u001b[0;34m(self, name, value)\u001b[0m\n\u001b[1;32m   3625\u001b[0m         \u001b[0;32mtry\u001b[0m\u001b[0;34m:\u001b[0m\u001b[0;34m\u001b[0m\u001b[0;34m\u001b[0m\u001b[0m\n\u001b[1;32m   3626\u001b[0m             \u001b[0mobject\u001b[0m\u001b[0;34m.\u001b[0m\u001b[0m__getattribute__\u001b[0m\u001b[0;34m(\u001b[0m\u001b[0mself\u001b[0m\u001b[0;34m,\u001b[0m \u001b[0mname\u001b[0m\u001b[0;34m)\u001b[0m\u001b[0;34m\u001b[0m\u001b[0;34m\u001b[0m\u001b[0m\n\u001b[0;32m-> 3627\u001b[0;31m             \u001b[0;32mreturn\u001b[0m \u001b[0mobject\u001b[0m\u001b[0;34m.\u001b[0m\u001b[0m__setattr__\u001b[0m\u001b[0;34m(\u001b[0m\u001b[0mself\u001b[0m\u001b[0;34m,\u001b[0m \u001b[0mname\u001b[0m\u001b[0;34m,\u001b[0m \u001b[0mvalue\u001b[0m\u001b[0;34m)\u001b[0m\u001b[0;34m\u001b[0m\u001b[0;34m\u001b[0m\u001b[0m\n\u001b[0m\u001b[1;32m   3628\u001b[0m         \u001b[0;32mexcept\u001b[0m \u001b[0mAttributeError\u001b[0m\u001b[0;34m:\u001b[0m\u001b[0;34m\u001b[0m\u001b[0;34m\u001b[0m\u001b[0m\n\u001b[1;32m   3629\u001b[0m             \u001b[0;32mpass\u001b[0m\u001b[0;34m\u001b[0m\u001b[0;34m\u001b[0m\u001b[0m\n",
            "\u001b[0;32mpandas/_libs/properties.pyx\u001b[0m in \u001b[0;36mpandas._libs.properties.AxisProperty.__set__\u001b[0;34m()\u001b[0m\n",
            "\u001b[0;32m/usr/local/lib/python3.6/dist-packages/pandas/core/generic.py\u001b[0m in \u001b[0;36m_set_axis\u001b[0;34m(self, axis, labels)\u001b[0m\n\u001b[1;32m    557\u001b[0m \u001b[0;34m\u001b[0m\u001b[0m\n\u001b[1;32m    558\u001b[0m     \u001b[0;32mdef\u001b[0m \u001b[0m_set_axis\u001b[0m\u001b[0;34m(\u001b[0m\u001b[0mself\u001b[0m\u001b[0;34m,\u001b[0m \u001b[0maxis\u001b[0m\u001b[0;34m,\u001b[0m \u001b[0mlabels\u001b[0m\u001b[0;34m)\u001b[0m\u001b[0;34m:\u001b[0m\u001b[0;34m\u001b[0m\u001b[0;34m\u001b[0m\u001b[0m\n\u001b[0;32m--> 559\u001b[0;31m         \u001b[0mself\u001b[0m\u001b[0;34m.\u001b[0m\u001b[0m_data\u001b[0m\u001b[0;34m.\u001b[0m\u001b[0mset_axis\u001b[0m\u001b[0;34m(\u001b[0m\u001b[0maxis\u001b[0m\u001b[0;34m,\u001b[0m \u001b[0mlabels\u001b[0m\u001b[0;34m)\u001b[0m\u001b[0;34m\u001b[0m\u001b[0;34m\u001b[0m\u001b[0m\n\u001b[0m\u001b[1;32m    560\u001b[0m         \u001b[0mself\u001b[0m\u001b[0;34m.\u001b[0m\u001b[0m_clear_item_cache\u001b[0m\u001b[0;34m(\u001b[0m\u001b[0;34m)\u001b[0m\u001b[0;34m\u001b[0m\u001b[0;34m\u001b[0m\u001b[0m\n\u001b[1;32m    561\u001b[0m \u001b[0;34m\u001b[0m\u001b[0m\n",
            "\u001b[0;32m/usr/local/lib/python3.6/dist-packages/pandas/core/internals.py\u001b[0m in \u001b[0;36mset_axis\u001b[0;34m(self, axis, new_labels)\u001b[0m\n\u001b[1;32m   3072\u001b[0m             raise ValueError('Length mismatch: Expected axis has %d elements, '\n\u001b[1;32m   3073\u001b[0m                              \u001b[0;34m'new values have %d elements'\u001b[0m \u001b[0;34m%\u001b[0m\u001b[0;34m\u001b[0m\u001b[0;34m\u001b[0m\u001b[0m\n\u001b[0;32m-> 3074\u001b[0;31m                              (old_len, new_len))\n\u001b[0m\u001b[1;32m   3075\u001b[0m \u001b[0;34m\u001b[0m\u001b[0m\n\u001b[1;32m   3076\u001b[0m         \u001b[0mself\u001b[0m\u001b[0;34m.\u001b[0m\u001b[0maxes\u001b[0m\u001b[0;34m[\u001b[0m\u001b[0maxis\u001b[0m\u001b[0;34m]\u001b[0m \u001b[0;34m=\u001b[0m \u001b[0mnew_labels\u001b[0m\u001b[0;34m\u001b[0m\u001b[0;34m\u001b[0m\u001b[0m\n",
            "\u001b[0;31mValueError\u001b[0m: Length mismatch: Expected axis has 5 elements, new values have 10 elements"
          ]
        }
      ]
    },
    {
      "metadata": {
        "id": "9RBkOgv3ZXJI",
        "colab_type": "code",
        "outputId": "cd8638a6-a5d4-4dc8-e0ad-ddb38c11506f",
        "colab": {
          "base_uri": "https://localhost:8080/",
          "height": 601
        }
      },
      "cell_type": "code",
      "source": [
        "barWidth = 0.85\n",
        "plt.bar(list(nine.index),nine.values, color='#FFD700',edgecolor='white',width=barWidth)\n",
        "plt.xticks(range(2009,2019))\n",
        "fig = plt.gcf()\n",
        "fig.set_size_inches(20,10)\n",
        "plt.tick_params(labelsize=20)\n",
        "plt.show()"
      ],
      "execution_count": 252,
      "outputs": [
        {
          "output_type": "display_data",
          "data": {
            "image/png": "[encoded data removed]",
            "text/plain": [
              "<matplotlib.figure.Figure at 0x7f168ec3eb70>"
            ]
          },
          "metadata": {
            "tags": []
          }
        }
      ]
    },
    {
      "metadata": {
        "id": "hq40EuRe8hzD",
        "colab_type": "code",
        "outputId": "f9aaa643-762f-4439-fb95-4165d550f56f",
        "colab": {
          "base_uri": "https://localhost:8080/",
          "height": 221
        }
      },
      "cell_type": "code",
      "source": [
        "yearly_links"
      ],
      "execution_count": 107,
      "outputs": [
        {
          "output_type": "execute_result",
          "data": {
            "text/plain": [
              "year\n",
              "2009     0.655738\n",
              "2010     0.218579\n",
              "2011     8.196721\n",
              "2012     8.524590\n",
              "2013     1.530055\n",
              "2014     7.103825\n",
              "2015    26.338798\n",
              "2016    17.595628\n",
              "2017    25.027322\n",
              "2018     4.808743\n",
              "dtype: float64"
            ]
          },
          "metadata": {
            "tags": []
          },
          "execution_count": 107
        }
      ]
    },
    {
      "metadata": {
        "id": "p7UG9KF8ppnw",
        "colab_type": "code",
        "outputId": "da844f94-c027-44b1-8b38-9d3076d542a3",
        "colab": {
          "base_uri": "https://localhost:8080/",
          "height": 187
        }
      },
      "cell_type": "code",
      "source": [
        "yearly_posts"
      ],
      "execution_count": 0,
      "outputs": [
        {
          "output_type": "execute_result",
          "data": {
            "text/plain": [
              "year\n",
              "2009     8\n",
              "2010    19\n",
              "2013    19\n",
              "2014    40\n",
              "2015    13\n",
              "2016    20\n",
              "2017    27\n",
              "2018    17\n",
              "dtype: int64"
            ]
          },
          "metadata": {
            "tags": []
          },
          "execution_count": 215
        }
      ]
    },
    {
      "metadata": {
        "id": "lr3ocOiySzFa",
        "colab_type": "code",
        "outputId": "ca84d164-7735-4718-80e5-f44055e41460",
        "colab": {
          "base_uri": "https://localhost:8080/",
          "height": 221
        }
      },
      "cell_type": "code",
      "source": [
        "yearly_links = fb_posts[fb_posts]fb_posts.groupby('year').size()\n",
        "df_max = df[df['Element'] == 'TMAX'].groupby('Date').aggregate({'Data_Value':np.average})\n"
      ],
      "execution_count": 0,
      "outputs": [
        {
          "output_type": "execute_result",
          "data": {
            "text/plain": [
              "year\n",
              "2009     99\n",
              "2010    120\n",
              "2011    322\n",
              "2012    487\n",
              "2013    447\n",
              "2014    434\n",
              "2015    499\n",
              "2016    229\n",
              "2017    297\n",
              "2018     95\n",
              "dtype: int64"
            ]
          },
          "metadata": {
            "tags": []
          },
          "execution_count": 136
        }
      ]
    },
    {
      "metadata": {
        "id": "eA_nn2zBBBG9",
        "colab_type": "code",
        "outputId": "66dbb671-5bac-4db5-fcc7-ee6a1a5b6589",
        "colab": {
          "base_uri": "https://localhost:8080/",
          "height": 5168
        }
      },
      "cell_type": "code",
      "source": [
        "#posts and link shares by year\n",
        "yearly_links = df\n",
        "yearly_posts = \n"
      ],
      "execution_count": 0,
      "outputs": [
        {
          "output_type": "execute_result",
          "data": {
            "text/html": [
              "<div>\n",
              "<style scoped>\n",
              "    .dataframe tbody tr th:only-of-type {\n",
              "        vertical-align: middle;\n",
              "    }\n",
              "\n",
              "    .dataframe tbody tr th {\n",
              "        vertical-align: top;\n",
              "    }\n",
              "\n",
              "    .dataframe thead th {\n",
              "        text-align: right;\n",
              "    }\n",
              "</style>\n",
              "<table border=\"1\" class=\"dataframe\">\n",
              "  <thead>\n",
              "    <tr style=\"text-align: right;\">\n",
              "      <th></th>\n",
              "      <th>timestamp</th>\n",
              "      <th>title</th>\n",
              "      <th>posts</th>\n",
              "      <th>links</th>\n",
              "      <th>year</th>\n",
              "      <th>month</th>\n",
              "      <th>day</th>\n",
              "      <th>time</th>\n",
              "    </tr>\n",
              "  </thead>\n",
              "  <tbody>\n",
              "    <tr>\n",
              "      <th>0</th>\n",
              "      <td>2018-12-21 12:28:13</td>\n",
              "      <td>Emmanuel Sibanda shared a post.</td>\n",
              "      <td>NaN</td>\n",
              "      <td>NaN</td>\n",
              "      <td>2018</td>\n",
              "      <td>12</td>\n",
              "      <td>21</td>\n",
              "      <td>12:28:13</td>\n",
              "    </tr>\n",
              "    <tr>\n",
              "      <th>1</th>\n",
              "      <td>2018-12-20 07:10:16</td>\n",
              "      <td>Emmanuel Sibanda shared a post.</td>\n",
              "      <td>Interesting take on South African history</td>\n",
              "      <td>NaN</td>\n",
              "      <td>2018</td>\n",
              "      <td>12</td>\n",
              "      <td>20</td>\n",
              "      <td>07:10:16</td>\n",
              "    </tr>\n",
              "    <tr>\n",
              "      <th>2</th>\n",
              "      <td>2018-12-20 07:02:50</td>\n",
              "      <td>Emmanuel Sibanda shared a post.</td>\n",
              "      <td>NaN</td>\n",
              "      <td>NaN</td>\n",
              "      <td>2018</td>\n",
              "      <td>12</td>\n",
              "      <td>20</td>\n",
              "      <td>07:02:50</td>\n",
              "    </tr>\n",
              "    <tr>\n",
              "      <th>3</th>\n",
              "      <td>2018-12-18 17:21:57</td>\n",
              "      <td>Emmanuel Sibanda shared a link.</td>\n",
              "      <td>\"There is nothing like that moment when you cr...</td>\n",
              "      <td>https://www.ft.com/content/675071ac-fcc0-11e3-...</td>\n",
              "      <td>2018</td>\n",
              "      <td>12</td>\n",
              "      <td>18</td>\n",
              "      <td>17:21:57</td>\n",
              "    </tr>\n",
              "    <tr>\n",
              "      <th>4</th>\n",
              "      <td>2018-12-12 09:39:01</td>\n",
              "      <td>Emmanuel Sibanda updated his status.</td>\n",
              "      <td>\"I teach you the overman. Man is something tha...</td>\n",
              "      <td>NaN</td>\n",
              "      <td>2018</td>\n",
              "      <td>12</td>\n",
              "      <td>12</td>\n",
              "      <td>09:39:01</td>\n",
              "    </tr>\n",
              "    <tr>\n",
              "      <th>5</th>\n",
              "      <td>2018-12-07 20:55:48</td>\n",
              "      <td>Emmanuel Sibanda shared a link.</td>\n",
              "      <td>Finally!</td>\n",
              "      <td>https://www.youtube.com/attribution_link?a=rTT...</td>\n",
              "      <td>2018</td>\n",
              "      <td>12</td>\n",
              "      <td>7</td>\n",
              "      <td>20:55:48</td>\n",
              "    </tr>\n",
              "    <tr>\n",
              "      <th>6</th>\n",
              "      <td>2018-12-07 06:48:00</td>\n",
              "      <td>Emmanuel Sibanda shared a link.</td>\n",
              "      <td>NaN</td>\n",
              "      <td>https://www.linkedin.com/pulse/visualising-sou...</td>\n",
              "      <td>2018</td>\n",
              "      <td>12</td>\n",
              "      <td>7</td>\n",
              "      <td>06:48:00</td>\n",
              "    </tr>\n",
              "    <tr>\n",
              "      <th>7</th>\n",
              "      <td>2018-12-05 11:18:36</td>\n",
              "      <td>Emmanuel Sibanda updated his status.</td>\n",
              "      <td>Johann Rupert's interview is a good example of...</td>\n",
              "      <td>NaN</td>\n",
              "      <td>2018</td>\n",
              "      <td>12</td>\n",
              "      <td>5</td>\n",
              "      <td>11:18:36</td>\n",
              "    </tr>\n",
              "    <tr>\n",
              "      <th>8</th>\n",
              "      <td>2018-11-28 09:58:32</td>\n",
              "      <td>NaN</td>\n",
              "      <td>NaN</td>\n",
              "      <td>NaN</td>\n",
              "      <td>2018</td>\n",
              "      <td>11</td>\n",
              "      <td>28</td>\n",
              "      <td>09:58:32</td>\n",
              "    </tr>\n",
              "    <tr>\n",
              "      <th>9</th>\n",
              "      <td>2018-11-23 12:41:56</td>\n",
              "      <td>Emmanuel Sibanda updated his status.</td>\n",
              "      <td>So if a person working in Zimbabwe earns over ...</td>\n",
              "      <td>NaN</td>\n",
              "      <td>2018</td>\n",
              "      <td>11</td>\n",
              "      <td>23</td>\n",
              "      <td>12:41:56</td>\n",
              "    </tr>\n",
              "    <tr>\n",
              "      <th>10</th>\n",
              "      <td>2018-11-18 18:21:10</td>\n",
              "      <td>Emmanuel Sibanda shared a link.</td>\n",
              "      <td>\"OK, time for some perspective. Grab a drink a...</td>\n",
              "      <td>https://www.capetownetc.com/news/most-reported...</td>\n",
              "      <td>2018</td>\n",
              "      <td>11</td>\n",
              "      <td>18</td>\n",
              "      <td>18:21:10</td>\n",
              "    </tr>\n",
              "    <tr>\n",
              "      <th>11</th>\n",
              "      <td>2018-11-16 07:36:56</td>\n",
              "      <td>Emmanuel Sibanda shared a link.</td>\n",
              "      <td>Helen Zille Twitter Analysis: analysing user b...</td>\n",
              "      <td>https://www.linkedin.com/pulse/helen-zille-twi...</td>\n",
              "      <td>2018</td>\n",
              "      <td>11</td>\n",
              "      <td>16</td>\n",
              "      <td>07:36:56</td>\n",
              "    </tr>\n",
              "    <tr>\n",
              "      <th>12</th>\n",
              "      <td>2018-11-12 19:27:20</td>\n",
              "      <td>Emmanuel Sibanda shared a post.</td>\n",
              "      <td>NaN</td>\n",
              "      <td>NaN</td>\n",
              "      <td>2018</td>\n",
              "      <td>11</td>\n",
              "      <td>12</td>\n",
              "      <td>19:27:20</td>\n",
              "    </tr>\n",
              "    <tr>\n",
              "      <th>13</th>\n",
              "      <td>2018-11-10 07:58:17</td>\n",
              "      <td>Emmanuel Sibanda shared a link.</td>\n",
              "      <td>Carrying out a brief analysis of social media ...</td>\n",
              "      <td>https://www.linkedin.com/pulse/analysing-our-c...</td>\n",
              "      <td>2018</td>\n",
              "      <td>11</td>\n",
              "      <td>10</td>\n",
              "      <td>07:58:17</td>\n",
              "    </tr>\n",
              "    <tr>\n",
              "      <th>14</th>\n",
              "      <td>2018-11-09 14:24:47</td>\n",
              "      <td>NaN</td>\n",
              "      <td>NaN</td>\n",
              "      <td>NaN</td>\n",
              "      <td>2018</td>\n",
              "      <td>11</td>\n",
              "      <td>9</td>\n",
              "      <td>14:24:47</td>\n",
              "    </tr>\n",
              "    <tr>\n",
              "      <th>15</th>\n",
              "      <td>2018-11-08 07:59:09</td>\n",
              "      <td>Emmanuel Sibanda shared a link.</td>\n",
              "      <td>NaN</td>\n",
              "      <td>https://www.youtube.com/attribution_link?a=5b4...</td>\n",
              "      <td>2018</td>\n",
              "      <td>11</td>\n",
              "      <td>8</td>\n",
              "      <td>07:59:09</td>\n",
              "    </tr>\n",
              "    <tr>\n",
              "      <th>16</th>\n",
              "      <td>2018-11-04 15:59:32</td>\n",
              "      <td>Emmanuel Sibanda shared a link.</td>\n",
              "      <td>Had to share this article from a good acquaint...</td>\n",
              "      <td>https://benmmari.wordpress.com/2018/11/04/how-...</td>\n",
              "      <td>2018</td>\n",
              "      <td>11</td>\n",
              "      <td>4</td>\n",
              "      <td>15:59:32</td>\n",
              "    </tr>\n",
              "    <tr>\n",
              "      <th>17</th>\n",
              "      <td>2018-11-01 16:16:54</td>\n",
              "      <td>Emmanuel Sibanda shared a link.</td>\n",
              "      <td>NaN</td>\n",
              "      <td>https://www.linkedin.com/pulse/what-we-learnt-...</td>\n",
              "      <td>2018</td>\n",
              "      <td>11</td>\n",
              "      <td>1</td>\n",
              "      <td>16:16:54</td>\n",
              "    </tr>\n",
              "    <tr>\n",
              "      <th>18</th>\n",
              "      <td>2018-10-27 15:28:43</td>\n",
              "      <td>NaN</td>\n",
              "      <td>NaN</td>\n",
              "      <td>NaN</td>\n",
              "      <td>2018</td>\n",
              "      <td>10</td>\n",
              "      <td>27</td>\n",
              "      <td>15:28:43</td>\n",
              "    </tr>\n",
              "    <tr>\n",
              "      <th>19</th>\n",
              "      <td>2018-10-22 14:53:08</td>\n",
              "      <td>NaN</td>\n",
              "      <td>NaN</td>\n",
              "      <td>NaN</td>\n",
              "      <td>2018</td>\n",
              "      <td>10</td>\n",
              "      <td>22</td>\n",
              "      <td>14:53:08</td>\n",
              "    </tr>\n",
              "    <tr>\n",
              "      <th>20</th>\n",
              "      <td>2018-10-11 16:26:20</td>\n",
              "      <td>Emmanuel Sibanda shared a link.</td>\n",
              "      <td>NaN</td>\n",
              "      <td>https://medium.com/@emmanuelsibanda/why-i-only...</td>\n",
              "      <td>2018</td>\n",
              "      <td>10</td>\n",
              "      <td>11</td>\n",
              "      <td>16:26:20</td>\n",
              "    </tr>\n",
              "    <tr>\n",
              "      <th>21</th>\n",
              "      <td>2018-10-11 09:45:52</td>\n",
              "      <td>Emmanuel Sibanda  doesn't recommend Strategies...</td>\n",
              "      <td>I am going to try and post a nuanced review th...</td>\n",
              "      <td>NaN</td>\n",
              "      <td>2018</td>\n",
              "      <td>10</td>\n",
              "      <td>11</td>\n",
              "      <td>09:45:52</td>\n",
              "    </tr>\n",
              "    <tr>\n",
              "      <th>22</th>\n",
              "      <td>2018-10-09 16:53:43</td>\n",
              "      <td>Emmanuel Sibanda updated his status.</td>\n",
              "      <td>i.) Cut expenditure - cut the civil servants b...</td>\n",
              "      <td>NaN</td>\n",
              "      <td>2018</td>\n",
              "      <td>10</td>\n",
              "      <td>9</td>\n",
              "      <td>16:53:43</td>\n",
              "    </tr>\n",
              "    <tr>\n",
              "      <th>23</th>\n",
              "      <td>2018-09-18 17:10:30</td>\n",
              "      <td>Emmanuel Sibanda shared a link.</td>\n",
              "      <td>NaN</td>\n",
              "      <td>https://arstechnica.com/?post_type=post&amp;p=1377557</td>\n",
              "      <td>2018</td>\n",
              "      <td>9</td>\n",
              "      <td>18</td>\n",
              "      <td>17:10:30</td>\n",
              "    </tr>\n",
              "    <tr>\n",
              "      <th>24</th>\n",
              "      <td>2018-09-09 07:32:24</td>\n",
              "      <td>Emmanuel Sibanda shared a link.</td>\n",
              "      <td>\"So, if young African Marxists today believe t...</td>\n",
              "      <td>https://fee.org/articles/marxism-is-consuming-...</td>\n",
              "      <td>2018</td>\n",
              "      <td>9</td>\n",
              "      <td>9</td>\n",
              "      <td>07:32:24</td>\n",
              "    </tr>\n",
              "    <tr>\n",
              "      <th>25</th>\n",
              "      <td>2018-08-24 16:02:42</td>\n",
              "      <td>Emmanuel Sibanda shared a post.</td>\n",
              "      <td>NaN</td>\n",
              "      <td>NaN</td>\n",
              "      <td>2018</td>\n",
              "      <td>8</td>\n",
              "      <td>24</td>\n",
              "      <td>16:02:42</td>\n",
              "    </tr>\n",
              "    <tr>\n",
              "      <th>26</th>\n",
              "      <td>2018-08-14 10:32:00</td>\n",
              "      <td>Emmanuel Sibanda shared a post.</td>\n",
              "      <td>Cool work by a fellow Brightest Young Minds al...</td>\n",
              "      <td>NaN</td>\n",
              "      <td>2018</td>\n",
              "      <td>8</td>\n",
              "      <td>14</td>\n",
              "      <td>10:32:00</td>\n",
              "    </tr>\n",
              "    <tr>\n",
              "      <th>27</th>\n",
              "      <td>2018-08-12 17:08:40</td>\n",
              "      <td>NaN</td>\n",
              "      <td>NaN</td>\n",
              "      <td>NaN</td>\n",
              "      <td>2018</td>\n",
              "      <td>8</td>\n",
              "      <td>12</td>\n",
              "      <td>17:08:40</td>\n",
              "    </tr>\n",
              "    <tr>\n",
              "      <th>28</th>\n",
              "      <td>2018-08-01 09:32:16</td>\n",
              "      <td>NaN</td>\n",
              "      <td>NaN</td>\n",
              "      <td>NaN</td>\n",
              "      <td>2018</td>\n",
              "      <td>8</td>\n",
              "      <td>1</td>\n",
              "      <td>09:32:16</td>\n",
              "    </tr>\n",
              "    <tr>\n",
              "      <th>29</th>\n",
              "      <td>2018-07-27 07:57:58</td>\n",
              "      <td>Emmanuel Sibanda updated his status.</td>\n",
              "      <td>In light of the upcoming elections in Zimbabwe...</td>\n",
              "      <td>NaN</td>\n",
              "      <td>2018</td>\n",
              "      <td>7</td>\n",
              "      <td>27</td>\n",
              "      <td>07:57:58</td>\n",
              "    </tr>\n",
              "    <tr>\n",
              "      <th>...</th>\n",
              "      <td>...</td>\n",
              "      <td>...</td>\n",
              "      <td>...</td>\n",
              "      <td>...</td>\n",
              "      <td>...</td>\n",
              "      <td>...</td>\n",
              "      <td>...</td>\n",
              "      <td>...</td>\n",
              "    </tr>\n",
              "    <tr>\n",
              "      <th>2999</th>\n",
              "      <td>2009-07-25 07:31:50</td>\n",
              "      <td>Emmanuel Sibanda updated his status.</td>\n",
              "      <td>Ah... my head wat e fuck tym is it.</td>\n",
              "      <td>NaN</td>\n",
              "      <td>2009</td>\n",
              "      <td>7</td>\n",
              "      <td>25</td>\n",
              "      <td>07:31:50</td>\n",
              "    </tr>\n",
              "    <tr>\n",
              "      <th>3000</th>\n",
              "      <td>2009-07-22 14:19:40</td>\n",
              "      <td>Emmanuel Sibanda updated his status.</td>\n",
              "      <td>Wts e point of lif we r jus slaves of a materi...</td>\n",
              "      <td>NaN</td>\n",
              "      <td>2009</td>\n",
              "      <td>7</td>\n",
              "      <td>22</td>\n",
              "      <td>14:19:40</td>\n",
              "    </tr>\n",
              "    <tr>\n",
              "      <th>3001</th>\n",
              "      <td>2009-07-21 13:53:41</td>\n",
              "      <td>Emmanuel Sibanda updated his status.</td>\n",
              "      <td>Its lk  natures pmsin my ass i fckn spil fish ...</td>\n",
              "      <td>NaN</td>\n",
              "      <td>2009</td>\n",
              "      <td>7</td>\n",
              "      <td>21</td>\n",
              "      <td>13:53:41</td>\n",
              "    </tr>\n",
              "    <tr>\n",
              "      <th>3002</th>\n",
              "      <td>2009-07-20 17:58:13</td>\n",
              "      <td>Emmanuel Sibanda updated his status.</td>\n",
              "      <td>No fuck it its a hick town</td>\n",
              "      <td>NaN</td>\n",
              "      <td>2009</td>\n",
              "      <td>7</td>\n",
              "      <td>20</td>\n",
              "      <td>17:58:13</td>\n",
              "    </tr>\n",
              "    <tr>\n",
              "      <th>3003</th>\n",
              "      <td>2009-07-20 17:57:06</td>\n",
              "      <td>Emmanuel Sibanda updated his status.</td>\n",
              "      <td>Okay mayb it aint so bd atleast er gigtime</td>\n",
              "      <td>NaN</td>\n",
              "      <td>2009</td>\n",
              "      <td>7</td>\n",
              "      <td>20</td>\n",
              "      <td>17:57:06</td>\n",
              "    </tr>\n",
              "    <tr>\n",
              "      <th>3004</th>\n",
              "      <td>2009-07-19 20:44:42</td>\n",
              "      <td>Emmanuel Sibanda updated his status.</td>\n",
              "      <td>Iv only bin here4 les thn a day bt ths Plac is...</td>\n",
              "      <td>NaN</td>\n",
              "      <td>2009</td>\n",
              "      <td>7</td>\n",
              "      <td>19</td>\n",
              "      <td>20:44:42</td>\n",
              "    </tr>\n",
              "    <tr>\n",
              "      <th>3005</th>\n",
              "      <td>2009-07-19 10:08:22</td>\n",
              "      <td>Emmanuel Sibanda updated his status.</td>\n",
              "      <td>i hte lng trps ey wear me out</td>\n",
              "      <td>NaN</td>\n",
              "      <td>2009</td>\n",
              "      <td>7</td>\n",
              "      <td>19</td>\n",
              "      <td>10:08:22</td>\n",
              "    </tr>\n",
              "    <tr>\n",
              "      <th>3006</th>\n",
              "      <td>2009-07-08 12:09:29</td>\n",
              "      <td>Emmanuel Sibanda updated his status.</td>\n",
              "      <td>save the environment!</td>\n",
              "      <td>NaN</td>\n",
              "      <td>2009</td>\n",
              "      <td>7</td>\n",
              "      <td>8</td>\n",
              "      <td>12:09:29</td>\n",
              "    </tr>\n",
              "    <tr>\n",
              "      <th>3007</th>\n",
              "      <td>2009-07-08 10:45:17</td>\n",
              "      <td>Emmanuel Sibanda updated his status.</td>\n",
              "      <td>im bouncing off e walls again</td>\n",
              "      <td>NaN</td>\n",
              "      <td>2009</td>\n",
              "      <td>7</td>\n",
              "      <td>8</td>\n",
              "      <td>10:45:17</td>\n",
              "    </tr>\n",
              "    <tr>\n",
              "      <th>3008</th>\n",
              "      <td>2009-06-11 07:14:44</td>\n",
              "      <td>Emmanuel Sibanda updated his status.</td>\n",
              "      <td>shud have got her number now i cant remember e...</td>\n",
              "      <td>NaN</td>\n",
              "      <td>2009</td>\n",
              "      <td>6</td>\n",
              "      <td>11</td>\n",
              "      <td>07:14:44</td>\n",
              "    </tr>\n",
              "    <tr>\n",
              "      <th>3009</th>\n",
              "      <td>2009-06-01 10:56:17</td>\n",
              "      <td>Emmanuel Sibanda updated his status.</td>\n",
              "      <td>im fuckin tired sick, fuck this im goin to sleep</td>\n",
              "      <td>NaN</td>\n",
              "      <td>2009</td>\n",
              "      <td>6</td>\n",
              "      <td>1</td>\n",
              "      <td>10:56:17</td>\n",
              "    </tr>\n",
              "    <tr>\n",
              "      <th>3010</th>\n",
              "      <td>2009-05-17 09:18:10</td>\n",
              "      <td>Emmanuel Sibanda updated his status.</td>\n",
              "      <td>is enjoying the new green day album</td>\n",
              "      <td>NaN</td>\n",
              "      <td>2009</td>\n",
              "      <td>5</td>\n",
              "      <td>17</td>\n",
              "      <td>09:18:10</td>\n",
              "    </tr>\n",
              "    <tr>\n",
              "      <th>3011</th>\n",
              "      <td>2009-05-09 10:03:41</td>\n",
              "      <td>Emmanuel Sibanda updated his status.</td>\n",
              "      <td>Im in over my head</td>\n",
              "      <td>NaN</td>\n",
              "      <td>2009</td>\n",
              "      <td>5</td>\n",
              "      <td>9</td>\n",
              "      <td>10:03:41</td>\n",
              "    </tr>\n",
              "    <tr>\n",
              "      <th>3012</th>\n",
              "      <td>2009-05-03 22:43:51</td>\n",
              "      <td>Emmanuel Sibanda updated his status.</td>\n",
              "      <td>im brd shitless</td>\n",
              "      <td>NaN</td>\n",
              "      <td>2009</td>\n",
              "      <td>5</td>\n",
              "      <td>3</td>\n",
              "      <td>22:43:51</td>\n",
              "    </tr>\n",
              "    <tr>\n",
              "      <th>3013</th>\n",
              "      <td>2009-04-30 10:11:07</td>\n",
              "      <td>Emmanuel Sibanda posted in HEAD BANGERS.</td>\n",
              "      <td>Viva Slipknot &amp; Eagles Of death Metal!! And lo...</td>\n",
              "      <td>NaN</td>\n",
              "      <td>2009</td>\n",
              "      <td>4</td>\n",
              "      <td>30</td>\n",
              "      <td>10:11:07</td>\n",
              "    </tr>\n",
              "    <tr>\n",
              "      <th>3014</th>\n",
              "      <td>2009-04-30 10:08:00</td>\n",
              "      <td>Emmanuel Sibanda posted in skaters.</td>\n",
              "      <td>How du u jump wit e board?</td>\n",
              "      <td>NaN</td>\n",
              "      <td>2009</td>\n",
              "      <td>4</td>\n",
              "      <td>30</td>\n",
              "      <td>10:08:00</td>\n",
              "    </tr>\n",
              "    <tr>\n",
              "      <th>3015</th>\n",
              "      <td>2009-04-30 10:05:36</td>\n",
              "      <td>Emmanuel Sibanda updated his status.</td>\n",
              "      <td>Gud thing man u kicked ass!</td>\n",
              "      <td>NaN</td>\n",
              "      <td>2009</td>\n",
              "      <td>4</td>\n",
              "      <td>30</td>\n",
              "      <td>10:05:36</td>\n",
              "    </tr>\n",
              "    <tr>\n",
              "      <th>3016</th>\n",
              "      <td>2009-04-28 12:38:31</td>\n",
              "      <td>Emmanuel Sibanda updated his status.</td>\n",
              "      <td>Is a sexy beast Raaaaw!</td>\n",
              "      <td>NaN</td>\n",
              "      <td>2009</td>\n",
              "      <td>4</td>\n",
              "      <td>28</td>\n",
              "      <td>12:38:31</td>\n",
              "    </tr>\n",
              "    <tr>\n",
              "      <th>3017</th>\n",
              "      <td>2009-04-24 12:40:13</td>\n",
              "      <td>Emmanuel Sibanda updated his status.</td>\n",
              "      <td>i dont know wat i want from life anymore its l...</td>\n",
              "      <td>NaN</td>\n",
              "      <td>2009</td>\n",
              "      <td>4</td>\n",
              "      <td>24</td>\n",
              "      <td>12:40:13</td>\n",
              "    </tr>\n",
              "    <tr>\n",
              "      <th>3018</th>\n",
              "      <td>2009-04-16 06:11:16</td>\n",
              "      <td>Emmanuel Sibanda updated his status.</td>\n",
              "      <td>Dis is e tym of our lives boys, sex, alcohol a...</td>\n",
              "      <td>NaN</td>\n",
              "      <td>2009</td>\n",
              "      <td>4</td>\n",
              "      <td>16</td>\n",
              "      <td>06:11:16</td>\n",
              "    </tr>\n",
              "    <tr>\n",
              "      <th>3019</th>\n",
              "      <td>2009-03-09 10:27:42</td>\n",
              "      <td>Emmanuel Sibanda updated his status.</td>\n",
              "      <td>is in Pretoria</td>\n",
              "      <td>NaN</td>\n",
              "      <td>2009</td>\n",
              "      <td>3</td>\n",
              "      <td>9</td>\n",
              "      <td>10:27:42</td>\n",
              "    </tr>\n",
              "    <tr>\n",
              "      <th>3020</th>\n",
              "      <td>2009-02-28 13:24:31</td>\n",
              "      <td>Emmanuel Sibanda updated his status.</td>\n",
              "      <td>gettin ready to play more poker, den tis tym 2...</td>\n",
              "      <td>NaN</td>\n",
              "      <td>2009</td>\n",
              "      <td>2</td>\n",
              "      <td>28</td>\n",
              "      <td>13:24:31</td>\n",
              "    </tr>\n",
              "    <tr>\n",
              "      <th>3021</th>\n",
              "      <td>2009-02-21 21:51:11</td>\n",
              "      <td>Emmanuel Sibanda updated his status.</td>\n",
              "      <td>is fuck damnit all i want to do is play me a n...</td>\n",
              "      <td>NaN</td>\n",
              "      <td>2009</td>\n",
              "      <td>2</td>\n",
              "      <td>21</td>\n",
              "      <td>21:51:11</td>\n",
              "    </tr>\n",
              "    <tr>\n",
              "      <th>3022</th>\n",
              "      <td>2009-02-21 21:15:55</td>\n",
              "      <td>Emmanuel Sibanda updated his status.</td>\n",
              "      <td>is doing absolutely nothing!!!!</td>\n",
              "      <td>NaN</td>\n",
              "      <td>2009</td>\n",
              "      <td>2</td>\n",
              "      <td>21</td>\n",
              "      <td>21:15:55</td>\n",
              "    </tr>\n",
              "    <tr>\n",
              "      <th>3023</th>\n",
              "      <td>2009-02-06 05:37:04</td>\n",
              "      <td>Emmanuel Sibanda updated his status.</td>\n",
              "      <td>is doing nothing</td>\n",
              "      <td>NaN</td>\n",
              "      <td>2009</td>\n",
              "      <td>2</td>\n",
              "      <td>6</td>\n",
              "      <td>05:37:04</td>\n",
              "    </tr>\n",
              "    <tr>\n",
              "      <th>3024</th>\n",
              "      <td>2009-01-31 13:06:27</td>\n",
              "      <td>Emmanuel Sibanda updated his status.</td>\n",
              "      <td>is god damn i look good!</td>\n",
              "      <td>NaN</td>\n",
              "      <td>2009</td>\n",
              "      <td>1</td>\n",
              "      <td>31</td>\n",
              "      <td>13:06:27</td>\n",
              "    </tr>\n",
              "    <tr>\n",
              "      <th>3025</th>\n",
              "      <td>2009-01-27 09:33:36</td>\n",
              "      <td>Emmanuel Sibanda updated his status.</td>\n",
              "      <td>is freakin tired... need a drink</td>\n",
              "      <td>NaN</td>\n",
              "      <td>2009</td>\n",
              "      <td>1</td>\n",
              "      <td>27</td>\n",
              "      <td>09:33:36</td>\n",
              "    </tr>\n",
              "    <tr>\n",
              "      <th>3026</th>\n",
              "      <td>2009-01-27 09:22:09</td>\n",
              "      <td>Emmanuel Sibanda updated his status.</td>\n",
              "      <td>is f*** america's got a blak president when e ...</td>\n",
              "      <td>NaN</td>\n",
              "      <td>2009</td>\n",
              "      <td>1</td>\n",
              "      <td>27</td>\n",
              "      <td>09:22:09</td>\n",
              "    </tr>\n",
              "    <tr>\n",
              "      <th>3027</th>\n",
              "      <td>2009-01-19 12:31:31</td>\n",
              "      <td>Emmanuel Sibanda updated his status.</td>\n",
              "      <td>is punky u jackass!</td>\n",
              "      <td>NaN</td>\n",
              "      <td>2009</td>\n",
              "      <td>1</td>\n",
              "      <td>19</td>\n",
              "      <td>12:31:31</td>\n",
              "    </tr>\n",
              "    <tr>\n",
              "      <th>3028</th>\n",
              "      <td>2009-01-13 10:07:57</td>\n",
              "      <td>Emmanuel Sibanda updated his status.</td>\n",
              "      <td>is formerly known as Emmanuel</td>\n",
              "      <td>NaN</td>\n",
              "      <td>2009</td>\n",
              "      <td>1</td>\n",
              "      <td>13</td>\n",
              "      <td>10:07:57</td>\n",
              "    </tr>\n",
              "  </tbody>\n",
              "</table>\n",
              "<p>3029 rows × 8 columns</p>\n",
              "</div>"
            ],
            "text/plain": [
              "               timestamp                                              title  \\\n",
              "0    2018-12-21 12:28:13                    Emmanuel Sibanda shared a post.   \n",
              "1    2018-12-20 07:10:16                    Emmanuel Sibanda shared a post.   \n",
              "2    2018-12-20 07:02:50                    Emmanuel Sibanda shared a post.   \n",
              "3    2018-12-18 17:21:57                    Emmanuel Sibanda shared a link.   \n",
              "4    2018-12-12 09:39:01               Emmanuel Sibanda updated his status.   \n",
              "5    2018-12-07 20:55:48                    Emmanuel Sibanda shared a link.   \n",
              "6    2018-12-07 06:48:00                    Emmanuel Sibanda shared a link.   \n",
              "7    2018-12-05 11:18:36               Emmanuel Sibanda updated his status.   \n",
              "8    2018-11-28 09:58:32                                                NaN   \n",
              "9    2018-11-23 12:41:56               Emmanuel Sibanda updated his status.   \n",
              "10   2018-11-18 18:21:10                    Emmanuel Sibanda shared a link.   \n",
              "11   2018-11-16 07:36:56                    Emmanuel Sibanda shared a link.   \n",
              "12   2018-11-12 19:27:20                    Emmanuel Sibanda shared a post.   \n",
              "13   2018-11-10 07:58:17                    Emmanuel Sibanda shared a link.   \n",
              "14   2018-11-09 14:24:47                                                NaN   \n",
              "15   2018-11-08 07:59:09                    Emmanuel Sibanda shared a link.   \n",
              "16   2018-11-04 15:59:32                    Emmanuel Sibanda shared a link.   \n",
              "17   2018-11-01 16:16:54                    Emmanuel Sibanda shared a link.   \n",
              "18   2018-10-27 15:28:43                                                NaN   \n",
              "19   2018-10-22 14:53:08                                                NaN   \n",
              "20   2018-10-11 16:26:20                    Emmanuel Sibanda shared a link.   \n",
              "21   2018-10-11 09:45:52  Emmanuel Sibanda  doesn't recommend Strategies...   \n",
              "22   2018-10-09 16:53:43               Emmanuel Sibanda updated his status.   \n",
              "23   2018-09-18 17:10:30                    Emmanuel Sibanda shared a link.   \n",
              "24   2018-09-09 07:32:24                    Emmanuel Sibanda shared a link.   \n",
              "25   2018-08-24 16:02:42                    Emmanuel Sibanda shared a post.   \n",
              "26   2018-08-14 10:32:00                    Emmanuel Sibanda shared a post.   \n",
              "27   2018-08-12 17:08:40                                                NaN   \n",
              "28   2018-08-01 09:32:16                                                NaN   \n",
              "29   2018-07-27 07:57:58               Emmanuel Sibanda updated his status.   \n",
              "...                  ...                                                ...   \n",
              "2999 2009-07-25 07:31:50               Emmanuel Sibanda updated his status.   \n",
              "3000 2009-07-22 14:19:40               Emmanuel Sibanda updated his status.   \n",
              "3001 2009-07-21 13:53:41               Emmanuel Sibanda updated his status.   \n",
              "3002 2009-07-20 17:58:13               Emmanuel Sibanda updated his status.   \n",
              "3003 2009-07-20 17:57:06               Emmanuel Sibanda updated his status.   \n",
              "3004 2009-07-19 20:44:42               Emmanuel Sibanda updated his status.   \n",
              "3005 2009-07-19 10:08:22               Emmanuel Sibanda updated his status.   \n",
              "3006 2009-07-08 12:09:29               Emmanuel Sibanda updated his status.   \n",
              "3007 2009-07-08 10:45:17               Emmanuel Sibanda updated his status.   \n",
              "3008 2009-06-11 07:14:44               Emmanuel Sibanda updated his status.   \n",
              "3009 2009-06-01 10:56:17               Emmanuel Sibanda updated his status.   \n",
              "3010 2009-05-17 09:18:10               Emmanuel Sibanda updated his status.   \n",
              "3011 2009-05-09 10:03:41               Emmanuel Sibanda updated his status.   \n",
              "3012 2009-05-03 22:43:51               Emmanuel Sibanda updated his status.   \n",
              "3013 2009-04-30 10:11:07           Emmanuel Sibanda posted in HEAD BANGERS.   \n",
              "3014 2009-04-30 10:08:00                Emmanuel Sibanda posted in skaters.   \n",
              "3015 2009-04-30 10:05:36               Emmanuel Sibanda updated his status.   \n",
              "3016 2009-04-28 12:38:31               Emmanuel Sibanda updated his status.   \n",
              "3017 2009-04-24 12:40:13               Emmanuel Sibanda updated his status.   \n",
              "3018 2009-04-16 06:11:16               Emmanuel Sibanda updated his status.   \n",
              "3019 2009-03-09 10:27:42               Emmanuel Sibanda updated his status.   \n",
              "3020 2009-02-28 13:24:31               Emmanuel Sibanda updated his status.   \n",
              "3021 2009-02-21 21:51:11               Emmanuel Sibanda updated his status.   \n",
              "3022 2009-02-21 21:15:55               Emmanuel Sibanda updated his status.   \n",
              "3023 2009-02-06 05:37:04               Emmanuel Sibanda updated his status.   \n",
              "3024 2009-01-31 13:06:27               Emmanuel Sibanda updated his status.   \n",
              "3025 2009-01-27 09:33:36               Emmanuel Sibanda updated his status.   \n",
              "3026 2009-01-27 09:22:09               Emmanuel Sibanda updated his status.   \n",
              "3027 2009-01-19 12:31:31               Emmanuel Sibanda updated his status.   \n",
              "3028 2009-01-13 10:07:57               Emmanuel Sibanda updated his status.   \n",
              "\n",
              "                                                  posts  \\\n",
              "0                                                   NaN   \n",
              "1             Interesting take on South African history   \n",
              "2                                                   NaN   \n",
              "3     \"There is nothing like that moment when you cr...   \n",
              "4     \"I teach you the overman. Man is something tha...   \n",
              "5                                              Finally!   \n",
              "6                                                   NaN   \n",
              "7     Johann Rupert's interview is a good example of...   \n",
              "8                                                   NaN   \n",
              "9     So if a person working in Zimbabwe earns over ...   \n",
              "10    \"OK, time for some perspective. Grab a drink a...   \n",
              "11    Helen Zille Twitter Analysis: analysing user b...   \n",
              "12                                                  NaN   \n",
              "13    Carrying out a brief analysis of social media ...   \n",
              "14                                                  NaN   \n",
              "15                                                  NaN   \n",
              "16    Had to share this article from a good acquaint...   \n",
              "17                                                  NaN   \n",
              "18                                                  NaN   \n",
              "19                                                  NaN   \n",
              "20                                                  NaN   \n",
              "21    I am going to try and post a nuanced review th...   \n",
              "22    i.) Cut expenditure - cut the civil servants b...   \n",
              "23                                                  NaN   \n",
              "24    \"So, if young African Marxists today believe t...   \n",
              "25                                                  NaN   \n",
              "26    Cool work by a fellow Brightest Young Minds al...   \n",
              "27                                                  NaN   \n",
              "28                                                  NaN   \n",
              "29    In light of the upcoming elections in Zimbabwe...   \n",
              "...                                                 ...   \n",
              "2999                Ah... my head wat e fuck tym is it.   \n",
              "3000  Wts e point of lif we r jus slaves of a materi...   \n",
              "3001  Its lk  natures pmsin my ass i fckn spil fish ...   \n",
              "3002                         No fuck it its a hick town   \n",
              "3003         Okay mayb it aint so bd atleast er gigtime   \n",
              "3004  Iv only bin here4 les thn a day bt ths Plac is...   \n",
              "3005                      i hte lng trps ey wear me out   \n",
              "3006                              save the environment!   \n",
              "3007                      im bouncing off e walls again   \n",
              "3008  shud have got her number now i cant remember e...   \n",
              "3009   im fuckin tired sick, fuck this im goin to sleep   \n",
              "3010                is enjoying the new green day album   \n",
              "3011                                 Im in over my head   \n",
              "3012                                    im brd shitless   \n",
              "3013  Viva Slipknot & Eagles Of death Metal!! And lo...   \n",
              "3014                         How du u jump wit e board?   \n",
              "3015                        Gud thing man u kicked ass!   \n",
              "3016                            Is a sexy beast Raaaaw!   \n",
              "3017  i dont know wat i want from life anymore its l...   \n",
              "3018  Dis is e tym of our lives boys, sex, alcohol a...   \n",
              "3019                                     is in Pretoria   \n",
              "3020  gettin ready to play more poker, den tis tym 2...   \n",
              "3021  is fuck damnit all i want to do is play me a n...   \n",
              "3022                    is doing absolutely nothing!!!!   \n",
              "3023                                   is doing nothing   \n",
              "3024                           is god damn i look good!   \n",
              "3025                   is freakin tired... need a drink   \n",
              "3026  is f*** america's got a blak president when e ...   \n",
              "3027                                is punky u jackass!   \n",
              "3028                      is formerly known as Emmanuel   \n",
              "\n",
              "                                                  links  year  month  day  \\\n",
              "0                                                   NaN  2018     12   21   \n",
              "1                                                   NaN  2018     12   20   \n",
              "2                                                   NaN  2018     12   20   \n",
              "3     https://www.ft.com/content/675071ac-fcc0-11e3-...  2018     12   18   \n",
              "4                                                   NaN  2018     12   12   \n",
              "5     https://www.youtube.com/attribution_link?a=rTT...  2018     12    7   \n",
              "6     https://www.linkedin.com/pulse/visualising-sou...  2018     12    7   \n",
              "7                                                   NaN  2018     12    5   \n",
              "8                                                   NaN  2018     11   28   \n",
              "9                                                   NaN  2018     11   23   \n",
              "10    https://www.capetownetc.com/news/most-reported...  2018     11   18   \n",
              "11    https://www.linkedin.com/pulse/helen-zille-twi...  2018     11   16   \n",
              "12                                                  NaN  2018     11   12   \n",
              "13    https://www.linkedin.com/pulse/analysing-our-c...  2018     11   10   \n",
              "14                                                  NaN  2018     11    9   \n",
              "15    https://www.youtube.com/attribution_link?a=5b4...  2018     11    8   \n",
              "16    https://benmmari.wordpress.com/2018/11/04/how-...  2018     11    4   \n",
              "17    https://www.linkedin.com/pulse/what-we-learnt-...  2018     11    1   \n",
              "18                                                  NaN  2018     10   27   \n",
              "19                                                  NaN  2018     10   22   \n",
              "20    https://medium.com/@emmanuelsibanda/why-i-only...  2018     10   11   \n",
              "21                                                  NaN  2018     10   11   \n",
              "22                                                  NaN  2018     10    9   \n",
              "23    https://arstechnica.com/?post_type=post&p=1377557  2018      9   18   \n",
              "24    https://fee.org/articles/marxism-is-consuming-...  2018      9    9   \n",
              "25                                                  NaN  2018      8   24   \n",
              "26                                                  NaN  2018      8   14   \n",
              "27                                                  NaN  2018      8   12   \n",
              "28                                                  NaN  2018      8    1   \n",
              "29                                                  NaN  2018      7   27   \n",
              "...                                                 ...   ...    ...  ...   \n",
              "2999                                                NaN  2009      7   25   \n",
              "3000                                                NaN  2009      7   22   \n",
              "3001                                                NaN  2009      7   21   \n",
              "3002                                                NaN  2009      7   20   \n",
              "3003                                                NaN  2009      7   20   \n",
              "3004                                                NaN  2009      7   19   \n",
              "3005                                                NaN  2009      7   19   \n",
              "3006                                                NaN  2009      7    8   \n",
              "3007                                                NaN  2009      7    8   \n",
              "3008                                                NaN  2009      6   11   \n",
              "3009                                                NaN  2009      6    1   \n",
              "3010                                                NaN  2009      5   17   \n",
              "3011                                                NaN  2009      5    9   \n",
              "3012                                                NaN  2009      5    3   \n",
              "3013                                                NaN  2009      4   30   \n",
              "3014                                                NaN  2009      4   30   \n",
              "3015                                                NaN  2009      4   30   \n",
              "3016                                                NaN  2009      4   28   \n",
              "3017                                                NaN  2009      4   24   \n",
              "3018                                                NaN  2009      4   16   \n",
              "3019                                                NaN  2009      3    9   \n",
              "3020                                                NaN  2009      2   28   \n",
              "3021                                                NaN  2009      2   21   \n",
              "3022                                                NaN  2009      2   21   \n",
              "3023                                                NaN  2009      2    6   \n",
              "3024                                                NaN  2009      1   31   \n",
              "3025                                                NaN  2009      1   27   \n",
              "3026                                                NaN  2009      1   27   \n",
              "3027                                                NaN  2009      1   19   \n",
              "3028                                                NaN  2009      1   13   \n",
              "\n",
              "          time  \n",
              "0     12:28:13  \n",
              "1     07:10:16  \n",
              "2     07:02:50  \n",
              "3     17:21:57  \n",
              "4     09:39:01  \n",
              "5     20:55:48  \n",
              "6     06:48:00  \n",
              "7     11:18:36  \n",
              "8     09:58:32  \n",
              "9     12:41:56  \n",
              "10    18:21:10  \n",
              "11    07:36:56  \n",
              "12    19:27:20  \n",
              "13    07:58:17  \n",
              "14    14:24:47  \n",
              "15    07:59:09  \n",
              "16    15:59:32  \n",
              "17    16:16:54  \n",
              "18    15:28:43  \n",
              "19    14:53:08  \n",
              "20    16:26:20  \n",
              "21    09:45:52  \n",
              "22    16:53:43  \n",
              "23    17:10:30  \n",
              "24    07:32:24  \n",
              "25    16:02:42  \n",
              "26    10:32:00  \n",
              "27    17:08:40  \n",
              "28    09:32:16  \n",
              "29    07:57:58  \n",
              "...        ...  \n",
              "2999  07:31:50  \n",
              "3000  14:19:40  \n",
              "3001  13:53:41  \n",
              "3002  17:58:13  \n",
              "3003  17:57:06  \n",
              "3004  20:44:42  \n",
              "3005  10:08:22  \n",
              "3006  12:09:29  \n",
              "3007  10:45:17  \n",
              "3008  07:14:44  \n",
              "3009  10:56:17  \n",
              "3010  09:18:10  \n",
              "3011  10:03:41  \n",
              "3012  22:43:51  \n",
              "3013  10:11:07  \n",
              "3014  10:08:00  \n",
              "3015  10:05:36  \n",
              "3016  12:38:31  \n",
              "3017  12:40:13  \n",
              "3018  06:11:16  \n",
              "3019  10:27:42  \n",
              "3020  13:24:31  \n",
              "3021  21:51:11  \n",
              "3022  21:15:55  \n",
              "3023  05:37:04  \n",
              "3024  13:06:27  \n",
              "3025  09:33:36  \n",
              "3026  09:22:09  \n",
              "3027  12:31:31  \n",
              "3028  10:07:57  \n",
              "\n",
              "[3029 rows x 8 columns]"
            ]
          },
          "metadata": {
            "tags": []
          },
          "execution_count": 125
        }
      ]
    },
    {
      "metadata": {
        "id": "L-tOMbAOKCtG",
        "colab_type": "code",
        "colab": {}
      },
      "cell_type": "code",
      "source": [
        "fb_posts"
      ],
      "execution_count": 0,
      "outputs": []
    },
    {
      "metadata": {
        "id": "ykBV2og1GZQk",
        "colab_type": "code",
        "colab": {}
      },
      "cell_type": "code",
      "source": [
        ""
      ],
      "execution_count": 0,
      "outputs": []
    },
    {
      "metadata": {
        "id": "R0vuuW_o_h3y",
        "colab_type": "code",
        "outputId": "3692ab63-8107-4d34-d660-f47da40a3613",
        "colab": {
          "base_uri": "https://localhost:8080/",
          "height": 34
        }
      },
      "cell_type": "code",
      "source": [
        "100*0.05"
      ],
      "execution_count": 0,
      "outputs": [
        {
          "output_type": "execute_result",
          "data": {
            "text/plain": [
              "5.0"
            ]
          },
          "metadata": {
            "tags": []
          },
          "execution_count": 36
        }
      ]
    },
    {
      "metadata": {
        "id": "oo03A9GoGDyI",
        "colab_type": "code",
        "colab": {}
      },
      "cell_type": "code",
      "source": [
        "for index, js in enumerate(json_files):\n",
        "    with open(os.path.join(path_to_json, js)) as json_file:\n",
        "        json_text = json.load(json_file)\n",
        "        participant = json_text['participant']\n",
        "        messages = json_text['messages']\n",
        "        title = json_text['title']\n",
        "        active = json_text['is_still_participant']\n",
        "        threadtype = json_text['thread_type']\n",
        "        threadpath = json_text['thread_path']\n",
        "        jsons_data.loc[index]=[participant,messages,title,active,threadtype,threadpath,skewness,rmsOriginalSignal, rmsFiltSignal_01, rmsFiltSignal_02, rmsFiltSignal_03]\n"
      ],
      "execution_count": 0,
      "outputs": []
    },
    {
      "metadata": {
        "id": "kqNRbY5J_d1J",
        "colab_type": "code",
        "colab": {}
      },
      "cell_type": "code",
      "source": [
        "import json\n",
        "import pandas as pd\n",
        "with open(\"/content/gdrive/My Drive/Data Visualisations/Messages/message.json\") as file:\n",
        "  data = json.load(file.read())\n",
        "data"
      ],
      "execution_count": 0,
      "outputs": []
    },
    {
      "metadata": {
        "id": "Drf4MfZ3AgeU",
        "colab_type": "code",
        "colab": {}
      },
      "cell_type": "code",
      "source": [
        "df = pd.read_json(\"/content/gdrive/My Drive/Data Visualisations/Messages/message.json\", lines = True)\n",
        "df"
      ],
      "execution_count": 0,
      "outputs": []
    },
    {
      "metadata": {
        "id": "JxRsZLHiYHRq",
        "colab_type": "code",
        "colab": {}
      },
      "cell_type": "code",
      "source": [
        "data= pd.read_json('/content/gdrive/My Drive/Data Visualisations/Messages/message3.json')"
      ],
      "execution_count": 0,
      "outputs": []
    },
    {
      "metadata": {
        "id": "TxzuLgubYteu",
        "colab_type": "code",
        "colab": {}
      },
      "cell_type": "code",
      "source": [
        "data"
      ],
      "execution_count": 0,
      "outputs": []
    }
  ]
}